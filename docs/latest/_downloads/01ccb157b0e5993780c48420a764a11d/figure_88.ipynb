{
  "cells": [
    {
      "cell_type": "markdown",
      "metadata": {},
      "source": [
        "\n# Cylinder Scatterer Bohren-Huffman figure 8.8\n"
      ]
    },
    {
      "cell_type": "code",
      "execution_count": null,
      "metadata": {
        "collapsed": false
      },
      "outputs": [],
      "source": [
        "# Standard library imports\nimport numpy as np\nimport matplotlib.pyplot as plt\n\n# PyMieSim imports\nfrom PyMieSim.directories import validation_data_path\nfrom PyMieSim.experiment.scatterer import Cylinder\nfrom PyMieSim.experiment.source import Gaussian\nfrom PyMieSim.experiment import Setup\nfrom PyMieSim.units import degree, watt, AU, RIU, nanometer\n\n# Load theoretical data\ntheoretical_data = np.genfromtxt(f\"{validation_data_path}/bohren_huffman/figure_88.csv\", delimiter=',')\n\n# Define parameters\nwavelength = 632.8 * nanometer  # Wavelength of the source in meters\npolarization_values = [0, 90] * degree  # Polarization values in degrees\noptical_power = 1e-3 * watt  # Optical power in watts\nNA = 0.2 * AU  # Numerical aperture\ndiameters = np.geomspace(10, 6000, 800) * nanometer  # Diameters from 10 nm to 6 \u03bcm\nindex = 1.55 * RIU  # Refractive index of the cylinder\nmedium_index = 1.335 * RIU  # Refractive index of the medium\n\n# Calculate the volume of the cylinders\nvolumes = np.pi * (diameters / 2)**2\n\n# Configure the Gaussian source\nsource = Gaussian(\n    wavelength=wavelength,\n    polarization=polarization_values,\n    optical_power=optical_power,\n    NA=NA\n)\n\n# Setup cylindrical scatterers\nscatterer = Cylinder(\n    diameter=diameters,\n    property=index,\n    medium_property=medium_index,\n    source=source\n)\n\n# Create experimental setup\nexperiment = Setup(scatterer=scatterer, source=source)\n\n# Compute PyMieSim scattering cross section data\ncsca_data = experiment.get('Csca', add_units=False).squeeze().values.reshape([-1, diameters.size])\nnormalized_csca = csca_data / volumes.to_base_units() * 1e-4 / 100  # Normalize the data as per specific needs\n\n# Plotting the results\nplt.figure(figsize=(8, 4))\nplt.plot(diameters * 1e6, normalized_csca[0], 'C0-', linewidth=3, label='PyMieSim Polarization: 0')\nplt.plot(diameters * 1e6, normalized_csca[1], 'C1-', linewidth=3, label='PyMieSim Polarization: 90')\nplt.plot(diameters * 1e6, theoretical_data[0], 'k--', linewidth=1, label='Theoretical BH 8.8 Polarization: 0')\nplt.plot(diameters * 1e6, theoretical_data[1], 'k--', linewidth=1, label='Theoretical BH 8.8 Polarization: 90')\n\nplt.xlabel('Diameter (\u03bcm)')\nplt.ylabel('Normalized Scattering Cross Section')\nplt.title('Comparison of Scattering Cross Sections for Cylinders')\nplt.grid(True)\nplt.legend()\nplt.tight_layout()\nplt.show()"
      ]
    }
  ],
  "metadata": {
    "kernelspec": {
      "display_name": "Python 3",
      "language": "python",
      "name": "python3"
    },
    "language_info": {
      "codemirror_mode": {
        "name": "ipython",
        "version": 3
      },
      "file_extension": ".py",
      "mimetype": "text/x-python",
      "name": "python",
      "nbconvert_exporter": "python",
      "pygments_lexer": "ipython3",
      "version": "3.10.15"
    }
  },
  "nbformat": 4,
  "nbformat_minor": 0
}