{
  "cells": [
    {
      "cell_type": "markdown",
      "metadata": {},
      "source": [
        "\n# Goniometric Coupling vs S1 S2 Comparison\n"
      ]
    },
    {
      "cell_type": "code",
      "execution_count": null,
      "metadata": {
        "collapsed": false
      },
      "outputs": [],
      "source": [
        "# Standard library imports\nimport numpy as np\nimport matplotlib.pyplot as plt\nfrom TypedUnit import ureg\n\n# PyMieSim imports\nfrom PyMieSim.experiment.detector import Photodiode\nfrom PyMieSim.experiment.scatterer import Sphere as ExperimentSphere\nfrom PyMieSim.experiment.source import Gaussian as ExperimentGaussian\nfrom PyMieSim.experiment import Setup\n\nfrom PyMieSim.single.scatterer import Sphere as SingleSphere\nfrom PyMieSim.single.source import Gaussian as SingleGaussian\nfrom MPSPlots.styles import mps\n\n# Setup parameters\nscatterer_diameter = 0.3 * ureg.micrometer  # Diameter of the scatterer in meters\nscatterer_index = 1.4 * ureg.RIU  # Refractive index of the scatterer\nsource_wavelength = 1.2 * ureg.micrometer  # Wavelength of the source in meters\n\n# Experiment source and scatterer setup\nsource = ExperimentGaussian(\n    wavelength=1.2 * ureg.micrometer,\n    polarization=[0, 90] * ureg.degree,\n    optical_power=1 * ureg.watt,\n    NA=0.2 * ureg.AU,\n)\n\nscatterer = ExperimentSphere(\n    diameter=scatterer_diameter,\n    property=scatterer_index,\n    medium_property=1.0 * ureg.RIU,\n    source=source,\n)\n\n# Detector setup\ndetector = Photodiode(\n    NA=[0.1] * ureg.AU,\n    phi_offset=np.linspace(-180, 180, 100) * ureg.degree,\n    gamma_offset=0.0 * ureg.degree,\n    sampling=1000 * ureg.AU,\n)\n\n# Configure experiment\nexperiment = Setup(scatterer=scatterer, source=source, detector=detector)\n\n# Gather data\ndataframe = experiment.get(\"coupling\", drop_unique_level=True)\n# dataframe.index = /= 180 / np.pi\ndataframe[\"coupling\"] /= dataframe[\"coupling\"].max()  # Normalize data\n\n# Single scatterer simulation for S1 and S2\nsingle_source = SingleGaussian(\n    wavelength=source_wavelength,\n    polarization=90 * ureg.degree,\n    optical_power=1 * ureg.watt,\n    NA=0.2 * ureg.AU,\n)\n\nsingle_scatterer = SingleSphere(\n    diameter=scatterer_diameter,\n    source=single_source,\n    property=scatterer_index,\n    medium_property=1.0 * ureg.RIU,\n)\n\ns1s2 = single_scatterer.get_s1s2()\nphi, s1, s2 = s1s2.phi, np.abs(s1s2.S1) ** 2, np.abs(s1s2.S2) ** 2\ns1 /= s1.max()  # Normalize S1 data\ns2 /= s2.max()  # Normalize S2 data\n\n\nwith plt.style.context(mps):\n    figure, ax0 = plt.subplots(1, 1, subplot_kw=dict(projection=\"polar\"))\n\n\ndf = (\n    dataframe.unstack(\"source:polarization\")\n    .pint.dequantify()\n    .reset_index()\n    .pint.quantify()\n)\n\ndf.plot(\n    x=\"detector:phi_offset\",\n    y=\"coupling\",\n    ax=ax0,\n    linewidth=3,\n    title=\"Polarization 90 degree\",\n)\n\nax0.plot(\n    np.deg2rad(phi), s1, color=\"white\", linestyle=\"--\", linewidth=1, label=\"Computed S1\"\n)\n\nax0.plot(\n    np.deg2rad(phi), s2, color=\"cyan\", linestyle=\"--\", linewidth=1, label=\"Computed S2\"\n)\n\nax0.grid()\n\nplt.show()"
      ]
    }
  ],
  "metadata": {
    "kernelspec": {
      "display_name": "Python 3",
      "language": "python",
      "name": "python3"
    },
    "language_info": {
      "codemirror_mode": {
        "name": "ipython",
        "version": 3
      },
      "file_extension": ".py",
      "mimetype": "text/x-python",
      "name": "python",
      "nbconvert_exporter": "python",
      "pygments_lexer": "ipython3",
      "version": "3.11.14"
    }
  },
  "nbformat": 4,
  "nbformat_minor": 0
}