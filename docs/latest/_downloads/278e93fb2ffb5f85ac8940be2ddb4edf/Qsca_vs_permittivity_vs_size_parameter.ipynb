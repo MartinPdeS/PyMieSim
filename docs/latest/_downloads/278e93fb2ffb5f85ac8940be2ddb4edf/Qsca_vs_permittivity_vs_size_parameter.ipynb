{
  "cells": [
    {
      "cell_type": "markdown",
      "metadata": {},
      "source": [
        "\n# Scattering efficiency of a sphere\n\nPyMieSim makes it easy to create a source and a scatterer. With these objects\ndefined, it is possible to use PyMieSim to find the scattering efficiency of the\nscatterer. This feature can be used to plot a graph of the scattering efficiency\nof a sphere as a function of the permittivity and the size parameter.\n"
      ]
    },
    {
      "cell_type": "markdown",
      "metadata": {},
      "source": [
        "Importing the package: PyMieSim\n\n"
      ]
    },
    {
      "cell_type": "code",
      "execution_count": null,
      "metadata": {
        "collapsed": false
      },
      "outputs": [],
      "source": [
        "import numpy\nfrom TypedUnit import ureg\nimport matplotlib.pyplot as plt\n\nfrom PyMieSim.experiment.scatterer import Sphere\nfrom PyMieSim.experiment.source import Gaussian\nfrom PyMieSim.experiment import Setup\n\n\npermitivity = numpy.linspace(-10, 50, 400)\n\nindex = numpy.sqrt(permitivity.astype(complex)) * ureg.RIU\n\ndiameter = numpy.linspace(1, 200, 400) * ureg.nanometer\n\nsource = Gaussian(\n    wavelength=400 * ureg.nanometer,\n    polarization=90 * ureg.degree,\n    optical_power=1e-3 * ureg.watt,\n    NA=0.2 * ureg.AU,\n)\n\n\nscatterer = Sphere(\n    diameter=diameter, property=index, medium_property=1 * ureg.RIU, source=source\n)\n\nexperiment = Setup(scatterer=scatterer, source=source)\n\ndata = (\n    experiment.get(\"Qsca\", add_units=False)\n    .squeeze()\n    .values.reshape([permitivity.size, diameter.size])\n)\n\nfigure, ax = plt.subplots(1, 1)\nax.set(\n    xlabel=\"Permittivity\",\n    ylabel=r\"Diameter [$\\mu$ m]\",\n    title=\"Scattering efficiency of a sphere\",\n)\n\nimage = ax.pcolormesh(permitivity, diameter, numpy.log(data))\n\nplt.colorbar(mappable=image)\n\nplt.show()"
      ]
    }
  ],
  "metadata": {
    "kernelspec": {
      "display_name": "Python 3",
      "language": "python",
      "name": "python3"
    },
    "language_info": {
      "codemirror_mode": {
        "name": "ipython",
        "version": 3
      },
      "file_extension": ".py",
      "mimetype": "text/x-python",
      "name": "python",
      "nbconvert_exporter": "python",
      "pygments_lexer": "ipython3",
      "version": "3.11.14"
    }
  },
  "nbformat": 4,
  "nbformat_minor": 0
}