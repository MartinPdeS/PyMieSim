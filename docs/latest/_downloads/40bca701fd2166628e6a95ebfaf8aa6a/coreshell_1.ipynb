{
  "cells": [
    {
      "cell_type": "markdown",
      "metadata": {},
      "source": [
        "\n# Core-Shell Particles: 1\n"
      ]
    },
    {
      "cell_type": "code",
      "execution_count": null,
      "metadata": {
        "collapsed": false
      },
      "outputs": [],
      "source": [
        "# Standard library imports\nimport numpy as np\nimport pandas as pd\nimport matplotlib.pyplot as plt\nfrom TypedUnit import ureg\n\n# PyMieSim imports\nfrom PyMieSim.experiment.scatterer import CoreShell\nfrom PyMieSim.experiment.source import Gaussian\nfrom PyMieSim.experiment import Setup\nfrom PyMieSim.directories import validation_data_path\nfrom MPSPlots.styles import mps\n\n# Define parameters\nwavelength = 600 * ureg.nanometer  # Light source wavelength in meters\npolarization = 0 * ureg.degree\noptical_power = 1 * ureg.watt  # Optical power in watts\nNA = 0.2 * ureg.AU  # Numerical aperture\nmedium_index = 1.0 * ureg.RIU\ncore_index = 1.5 * ureg.RIU\nshell_index = 1.4 * ureg.RIU\nshell_thickness = 1200 * ureg.nanometer  # Shell width in meters\ncore_diameters = np.geomspace(10, 500, 400) * ureg.nanometer  # Core diameters in meters\n\n# Configure the Gaussian source\nsource = Gaussian(\n    wavelength=wavelength, polarization=polarization, optical_power=optical_power, NA=NA\n)\n\n# Setup core-shell scatterer\nscatterer = CoreShell(\n    core_diameter=core_diameters,\n    shell_thickness=shell_thickness,\n    core_property=core_index,\n    shell_property=shell_index,\n    medium_property=medium_index,\n    source=source,\n)\n\n# Create experimental setup\nexperiment = Setup(scatterer=scatterer, source=source)\n\ncomparison_measures = [\"Qsca\", \"Qext\", \"Qabs\", \"g\", \"Qpr\", \"Qback\"]\n\n# Simulate using PyMieSim\npymiesim_dataframe = experiment.get(*comparison_measures)\n\npymiescatt_dataframe = pd.read_csv(\n    validation_data_path / \"pymiescatt/example_coreshell_1.csv\"\n)\n\n# Plot results\nwith plt.style.context(mps):\n    figure, ax = plt.subplots(1, 1)\n\n\npymiescatt_dataframe.plot(x=\"core_diameter\", y=comparison_measures, ax=ax, linewidth=3)\npymiesim_dataframe.plot(\n    x=\"scatterer:core_diameter\",\n    ax=ax,\n    color=\"black\",\n    linestyle=\"--\",\n    linewidth=1.5,\n    show=False,\n)\n\n\nax.set(\n    xlabel=\"Core Diameter (\u03bcm)\",\n    ylabel=\"Scattering Efficiency\",\n    title=\"Comparison of Scattering Efficiency for Core-Shell Particles\",\n)\nplt.legend()\nplt.show()"
      ]
    }
  ],
  "metadata": {
    "kernelspec": {
      "display_name": "Python 3",
      "language": "python",
      "name": "python3"
    },
    "language_info": {
      "codemirror_mode": {
        "name": "ipython",
        "version": 3
      },
      "file_extension": ".py",
      "mimetype": "text/x-python",
      "name": "python",
      "nbconvert_exporter": "python",
      "pygments_lexer": "ipython3",
      "version": "3.11.13"
    }
  },
  "nbformat": 4,
  "nbformat_minor": 0
}