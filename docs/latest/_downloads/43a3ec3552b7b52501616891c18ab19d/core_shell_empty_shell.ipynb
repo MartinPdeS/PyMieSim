{
  "cells": [
    {
      "cell_type": "markdown",
      "metadata": {},
      "source": [
        "\n# Effect of Shell dimensions in equivalent medium\n"
      ]
    },
    {
      "cell_type": "code",
      "execution_count": null,
      "metadata": {
        "collapsed": false
      },
      "outputs": [],
      "source": [
        "# Standard library imports\nimport numpy as np\nimport matplotlib.pyplot as plt\n\n# PyMieSim imports\nfrom PyMieSim.experiment.scatterer import CoreShell\nfrom PyMieSim.experiment.source import Gaussian\nfrom PyMieSim.experiment import Setup\nfrom PyMieSim.units import degree, watt, AU, RIU, micrometer, nanometer\n\n# Setup parameters\nscatterer_diameter = 0.3 * micrometer  # Diameter of the scatterer in meters\nscatterer_index = 1.4 * RIU  # Refractive index of the scatterer\nsource_wavelength = 1.2 * micrometer  # Wavelength of the source in meters\n\n# Experiment source and scatterer setup\nsource = Gaussian(\n    wavelength=1.2 * micrometer,\n    polarization=[0, 90] * degree,\n    optical_power=1 * watt,\n    NA=0.2 * AU\n)\n\nscatterer = CoreShell(\n    core_diameter=300 * nanometer,\n    shell_thickness=np.linspace(100, 300, 100) * nanometer,\n    core_property=1.4 * RIU,\n    shell_property=1.3 * RIU,\n    medium_property=1.3 * RIU,\n    source=source\n)\n\n\n# Configure experiment\nexperiment = Setup(scatterer=scatterer, source=source)\n\n# Gather data"
      ]
    },
    {
      "cell_type": "code",
      "execution_count": null,
      "metadata": {
        "collapsed": false
      },
      "outputs": [],
      "source": [
        "dataframe = experiment.get('Csca')\n\n\nax = dataframe.plot(x='scatterer:shell_thickness', show=False)\n\nax.set_ylim([0, 4.0e-16])\n\nplt.show()"
      ]
    },
    {
      "cell_type": "markdown",
      "metadata": {},
      "source": [
        "As it is supposed the scattering Cross-section should not be affected by\nthe shell thickness as it's refractive index is same as the surrounding medium.\n\n"
      ]
    },
    {
      "cell_type": "code",
      "execution_count": null,
      "metadata": {
        "collapsed": false
      },
      "outputs": [],
      "source": [
        "dataframe = experiment.get('Qsca')\n\nax = dataframe.plot(x='scatterer:shell_thickness', show=False)\n\nplt.show()\n# Similarly the scattering decrease as the scatterer becomes technically larger but the effects of the shell is for no account."
      ]
    }
  ],
  "metadata": {
    "kernelspec": {
      "display_name": "Python 3",
      "language": "python",
      "name": "python3"
    },
    "language_info": {
      "codemirror_mode": {
        "name": "ipython",
        "version": 3
      },
      "file_extension": ".py",
      "mimetype": "text/x-python",
      "name": "python",
      "nbconvert_exporter": "python",
      "pygments_lexer": "ipython3",
      "version": "3.11.12"
    }
  },
  "nbformat": 4,
  "nbformat_minor": 0
}