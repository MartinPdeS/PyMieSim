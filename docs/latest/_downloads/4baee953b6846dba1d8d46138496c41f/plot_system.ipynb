{
  "cells": [
    {
      "cell_type": "markdown",
      "metadata": {},
      "source": [
        "\n# Plot system\n\nExample Script: Using the `plot_system` Function\n\nThis script demonstrates how to use the `plot_system` function to create a 3D visualization\nof a system consisting of a light source, a scatterer, and a detector. The function leverages\nPyVista for rendering the 3D scene.\n\nThis script is intended to be used in conjunction with the Read the Docs documentation.\n"
      ]
    },
    {
      "cell_type": "code",
      "execution_count": null,
      "metadata": {
        "collapsed": false
      },
      "outputs": [],
      "source": [
        "from math import sqrt\nfrom TypedUnit import ureg\n\nfrom PyMieSim.single.scatterer import Cylinder\nfrom PyMieSim.single.source import Gaussian\nfrom PyMieSim.single.detector import CoherentMode\nfrom PyMieSim.single import plot_system"
      ]
    },
    {
      "cell_type": "markdown",
      "metadata": {},
      "source": [
        "Create a Gaussian light source\n\n"
      ]
    },
    {
      "cell_type": "code",
      "execution_count": null,
      "metadata": {
        "collapsed": false
      },
      "outputs": [],
      "source": [
        "source = Gaussian(\n    wavelength=1550 * ureg.nanometer,  # Wavelength of 1550 nm\n    polarization=0 * ureg.degree,  # Linear polarization at 0 radians\n    optical_power=1 * ureg.watt,  # Optical power in arbitrary units\n    NA=0.3 * ureg.AU,  # Numerical Aperture\n)"
      ]
    },
    {
      "cell_type": "markdown",
      "metadata": {},
      "source": [
        "Create a Cylinder scatterer\n\n"
      ]
    },
    {
      "cell_type": "code",
      "execution_count": null,
      "metadata": {
        "collapsed": false
      },
      "outputs": [],
      "source": [
        "scatterer = Cylinder(\n    diameter=7800 * ureg.nanometer,  # Diameter of 7.8 micrometers\n    source=source,  # The Gaussian source defined above\n    medium_property=1.0 * ureg.RIU,  # Refractive index of the surrounding medium\n    property=sqrt(1.5) * ureg.RIU,  # Refractive index of the scatterer\n)"
      ]
    },
    {
      "cell_type": "markdown",
      "metadata": {},
      "source": [
        "Create a Photodiode detector\n\n"
      ]
    },
    {
      "cell_type": "code",
      "execution_count": null,
      "metadata": {
        "collapsed": false
      },
      "outputs": [],
      "source": [
        "detector = CoherentMode(\n    mode_number=\"LP01\",\n    NA=0.2 * ureg.AU,  # Numerical Aperture\n    gamma_offset=0 * ureg.degree,  # Gamma offset in degrees\n    phi_offset=60 * ureg.degree,  # Phi offset in degrees\n    polarization_filter=0 * ureg.degree,  # Polarization filter angle in degrees\n)"
      ]
    },
    {
      "cell_type": "markdown",
      "metadata": {},
      "source": [
        "Retrieve the scattering phase function (SPF) from the scatterer\n\n"
      ]
    },
    {
      "cell_type": "code",
      "execution_count": null,
      "metadata": {
        "collapsed": false
      },
      "outputs": [],
      "source": [
        "spf = scatterer.get_spf()"
      ]
    },
    {
      "cell_type": "markdown",
      "metadata": {},
      "source": [
        "Visualize the system using the plot_system function\n\n"
      ]
    },
    {
      "cell_type": "code",
      "execution_count": null,
      "metadata": {
        "collapsed": false
      },
      "outputs": [],
      "source": [
        "plot_system(source, detector)"
      ]
    }
  ],
  "metadata": {
    "kernelspec": {
      "display_name": "Python 3",
      "language": "python",
      "name": "python3"
    },
    "language_info": {
      "codemirror_mode": {
        "name": "ipython",
        "version": 3
      },
      "file_extension": ".py",
      "mimetype": "text/x-python",
      "name": "python",
      "nbconvert_exporter": "python",
      "pygments_lexer": "ipython3",
      "version": "3.11.13"
    }
  },
  "nbformat": 4,
  "nbformat_minor": 0
}