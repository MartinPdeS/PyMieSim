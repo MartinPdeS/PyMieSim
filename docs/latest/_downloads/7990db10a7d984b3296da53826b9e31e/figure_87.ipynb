{
  "cells": [
    {
      "cell_type": "markdown",
      "metadata": {},
      "source": [
        "\n# Cylinder Scatterer Bohren-Huffman figure 8.7\n"
      ]
    },
    {
      "cell_type": "markdown",
      "metadata": {},
      "source": [
        "Importing the dependencies: numpy, matplotlib, PyMieSim\n\n"
      ]
    },
    {
      "cell_type": "code",
      "execution_count": null,
      "metadata": {
        "collapsed": false
      },
      "outputs": [],
      "source": [
        "import numpy\nimport matplotlib.pyplot as plt\n\nfrom PyMieSim.directories import validation_data_path\n\nfrom PyMieSim.experiment.scatterer import Cylinder\nfrom PyMieSim.experiment.source import Gaussian\nfrom PyMieSim.experiment import Setup\nfrom PyMieSim.units import degree, watt, AU, RIU, nanometer\n\ntheoretical = numpy.genfromtxt(f\"{validation_data_path}/bohren_huffman/figure_87.csv\", delimiter=',')\n\ndiameter = numpy.geomspace(10, 6000, 800) * nanometer\nvolume = numpy.pi * (diameter.to_base_units().magnitude / 2)**2\n\nsource = Gaussian(\n    wavelength=632.8 * nanometer,\n    polarization=[0, 90] * degree,\n    optical_power=1e-3 * watt,\n    NA=0.2 * AU\n)\n\nscatterer = Cylinder(\n    diameter=diameter,\n    property=1.55 * RIU,\n    medium_property=1 * RIU,\n    source=source\n)\n\nexperiment = Setup(\n    scatterer=scatterer,\n    source=source,\n    detector=None\n)\n\ndataframe = experiment.get('Csca', add_units=False)\n\ndata = dataframe.squeeze().values.reshape([-1, diameter.size]) / volume * 1e-4 / 100\n\nprint(data.shape)\n\nplt.figure(figsize=(8, 4))\nplt.plot(diameter, data[0], 'b--', linewidth=3, label='PyMieSim')\nplt.plot(diameter, data[1], 'r-', linewidth=3, label='PyMieSim')\n\nplt.plot(diameter, theoretical[0], 'k--', linewidth=1, label='BH 8.8')\nplt.plot(diameter, theoretical[1], 'k--', linewidth=1, label='BH 8.8')\n\nplt.xlabel(r'Diameter [$\\mu$m]')\nplt.ylabel('Scattering cross section [cylinder]')\nplt.grid(True)\nplt.legend()\nplt.tight_layout()\nplt.show()"
      ]
    }
  ],
  "metadata": {
    "kernelspec": {
      "display_name": "Python 3",
      "language": "python",
      "name": "python3"
    },
    "language_info": {
      "codemirror_mode": {
        "name": "ipython",
        "version": 3
      },
      "file_extension": ".py",
      "mimetype": "text/x-python",
      "name": "python",
      "nbconvert_exporter": "python",
      "pygments_lexer": "ipython3",
      "version": "3.11.10"
    }
  },
  "nbformat": 4,
  "nbformat_minor": 0
}