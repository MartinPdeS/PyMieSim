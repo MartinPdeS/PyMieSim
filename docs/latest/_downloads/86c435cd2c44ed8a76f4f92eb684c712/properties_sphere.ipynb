{
  "cells": [
    {
      "cell_type": "markdown",
      "metadata": {},
      "source": [
        "\n# Samples Properties\n"
      ]
    },
    {
      "cell_type": "code",
      "execution_count": null,
      "metadata": {
        "collapsed": false
      },
      "outputs": [],
      "source": [
        "from TypedUnit import ureg\n\nfrom PyMieSim.single.scatterer import Sphere\nfrom PyMieSim.single.source import Gaussian\n\nsource = Gaussian(\n    wavelength=1000 * ureg.nanometer,\n    polarization=0 * ureg.degree,\n    optical_power=1 * ureg.watt,\n    NA=0.3 * ureg.AU,\n)\n\nscatterer = Sphere(\n    diameter=800 * ureg.nanometer,\n    source=source,\n    property=1.4 * ureg.RIU,\n    medium_property=1.0 * ureg.RIU,\n)"
      ]
    },
    {
      "cell_type": "markdown",
      "metadata": {},
      "source": [
        "Plotting the farfield pattern\n\n"
      ]
    },
    {
      "cell_type": "code",
      "execution_count": null,
      "metadata": {
        "collapsed": false
      },
      "outputs": [],
      "source": [
        "farfield = scatterer.get_farfield(sampling=300)\nfarfield.plot()"
      ]
    },
    {
      "cell_type": "markdown",
      "metadata": {},
      "source": [
        "Printing the scatterer properties\n\n"
      ]
    },
    {
      "cell_type": "code",
      "execution_count": null,
      "metadata": {
        "collapsed": false
      },
      "outputs": [],
      "source": [
        "scatterer.print_properties()"
      ]
    }
  ],
  "metadata": {
    "kernelspec": {
      "display_name": "Python 3",
      "language": "python",
      "name": "python3"
    },
    "language_info": {
      "codemirror_mode": {
        "name": "ipython",
        "version": 3
      },
      "file_extension": ".py",
      "mimetype": "text/x-python",
      "name": "python",
      "nbconvert_exporter": "python",
      "pygments_lexer": "ipython3",
      "version": "3.11.14"
    }
  },
  "nbformat": 4,
  "nbformat_minor": 0
}