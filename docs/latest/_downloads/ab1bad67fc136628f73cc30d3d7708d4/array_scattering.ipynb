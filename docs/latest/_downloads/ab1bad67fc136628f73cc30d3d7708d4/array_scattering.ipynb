{
  "cells": [
    {
      "cell_type": "markdown",
      "metadata": {},
      "source": [
        "\n# Array-based scattering calculations\n\nThis example demonstrates how to compute far fields, S1/S2 amplitudes and\nStokes parameters using arbitrary ``phi`` and ``theta`` arrays.\n"
      ]
    },
    {
      "cell_type": "code",
      "execution_count": null,
      "metadata": {
        "collapsed": false
      },
      "outputs": [],
      "source": [
        "import numpy as np\nfrom PyMieSim.single.scatterer import Sphere\nfrom PyMieSim.single.source import PlaneWave\nfrom PyMieSim.units import nanometer, degree, RIU, volt, meter"
      ]
    },
    {
      "cell_type": "markdown",
      "metadata": {},
      "source": [
        "Create a simple plane wave source\n\n"
      ]
    },
    {
      "cell_type": "code",
      "execution_count": null,
      "metadata": {
        "collapsed": false
      },
      "outputs": [],
      "source": [
        "source = PlaneWave(\n    wavelength=632.8 * nanometer,\n    polarization=0 * degree,\n    amplitude=1 * volt / meter,\n)"
      ]
    },
    {
      "cell_type": "markdown",
      "metadata": {},
      "source": [
        "Define the scatterer\n\n"
      ]
    },
    {
      "cell_type": "code",
      "execution_count": null,
      "metadata": {
        "collapsed": false
      },
      "outputs": [],
      "source": [
        "scatterer = Sphere(\n    diameter=200 * nanometer,\n    property=1.5 * RIU,\n    medium_property=1.0 * RIU,\n    source=source,\n)\n\n# Define arbitrary angle arrays\nphi = np.linspace(0, np.pi, 8)\ntheta = np.linspace(0, np.pi / 2, 8)"
      ]
    },
    {
      "cell_type": "markdown",
      "metadata": {},
      "source": [
        "Far-field complex fields\n\n"
      ]
    },
    {
      "cell_type": "code",
      "execution_count": null,
      "metadata": {
        "collapsed": false
      },
      "outputs": [],
      "source": [
        "E_para, E_perp = scatterer.get_far_field_array(phi, theta)\nprint(E_para.shape, E_perp.shape)"
      ]
    },
    {
      "cell_type": "markdown",
      "metadata": {},
      "source": [
        "S1 and S2 scattering amplitudes\n\n"
      ]
    },
    {
      "cell_type": "code",
      "execution_count": null,
      "metadata": {
        "collapsed": false
      },
      "outputs": [],
      "source": [
        "S1, S2 = scatterer.get_s1s2_array(phi)\nprint(S1.shape, S2.shape)"
      ]
    },
    {
      "cell_type": "markdown",
      "metadata": {},
      "source": [
        "Stokes parameters\n\n"
      ]
    },
    {
      "cell_type": "code",
      "execution_count": null,
      "metadata": {
        "collapsed": false
      },
      "outputs": [],
      "source": [
        "I, Q, U, V = scatterer.get_stokes_array(phi, theta)\nprint(I.shape, Q.shape, U.shape, V.shape)"
      ]
    }
  ],
  "metadata": {
    "kernelspec": {
      "display_name": "Python 3",
      "language": "python",
      "name": "python3"
    },
    "language_info": {
      "codemirror_mode": {
        "name": "ipython",
        "version": 3
      },
      "file_extension": ".py",
      "mimetype": "text/x-python",
      "name": "python",
      "nbconvert_exporter": "python",
      "pygments_lexer": "ipython3",
      "version": "3.11.13"
    }
  },
  "nbformat": 4,
  "nbformat_minor": 0
}