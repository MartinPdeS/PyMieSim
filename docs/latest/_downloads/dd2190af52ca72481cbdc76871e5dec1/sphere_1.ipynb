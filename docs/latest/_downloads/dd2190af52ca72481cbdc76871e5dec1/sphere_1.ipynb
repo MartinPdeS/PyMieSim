{
  "cells": [
    {
      "cell_type": "markdown",
      "metadata": {},
      "source": [
        "\n# Sphere Particles: 1\n"
      ]
    },
    {
      "cell_type": "code",
      "execution_count": null,
      "metadata": {
        "collapsed": false
      },
      "outputs": [],
      "source": [
        "# Standard library imports\nimport numpy as np\nimport pandas as pd\nimport matplotlib.pyplot as plt\n\n# PyMieSim imports\nfrom PyMieSim.experiment.scatterer import Sphere\nfrom PyMieSim.experiment.source import Gaussian\nfrom PyMieSim.experiment import Setup\nfrom PyMieSim.units import degree, watt, AU, RIU, nanometer\nfrom PyMieSim.directories import validation_data_path\nfrom MPSPlots.styles import mps\n\n\n# Define parameters\nwavelength = 632.8 * nanometer  # Wavelength of the source in meters\nindex = (1.4 + 0.2j) * RIU  # Refractive index of the sphere\nmedium_index = 1.2 * RIU  # Refractive index of the medium\noptical_power = 1 * watt  # Power of the light source in watts\nNA = 0.2 * AU  # Numerical aperture\ndiameters = np.geomspace(10, 6_000, 800) * nanometer  # Diameters from 10 nm to 6 \u03bcm\n\n# Configure the Gaussian source\nsource = Gaussian(\n    wavelength=wavelength,\n    polarization=0 * degree,\n    optical_power=optical_power,\n    NA=NA\n)\n\n# Setup spherical scatterer\nscatterer = Sphere(\n    diameter=diameters,\n    property=index,\n    medium_property=medium_index,\n    source=source\n)\n\n# Create experimental setup\nexperiment = Setup(scatterer=scatterer, source=source)\n\ncomparison_measures = ['Qsca', 'Qext', 'Qabs', 'g', 'Qpr', 'Qback']\n\n# Compute PyMieSim scattering efficiency data\npymiesim_dataframe = experiment.get(*comparison_measures)\n\npymiescatt_dataframe = pd.read_csv(validation_data_path / 'pymiescatt/example_shpere_1.csv')\n\n# Plot results\nwith plt.style.context(mps):\n    figure, ax = plt.subplots(1, 1)\n\n\npymiescatt_dataframe.diameter *= 1e9\n\npymiescatt_dataframe.plot(x='diameter', y=comparison_measures, ax=ax, linewidth=3)\npymiesim_dataframe.plot(x='scatterer:diameter', ax=ax, color='black', linestyle='--', linewidth=1.5, show=False)\n\nax.set(\n    xlabel=r'Diameter [$\\mu$m]',\n    ylabel='Scattering Efficiency',\n    title='Scattering Efficiency Comparison for Sphere Particles'\n)\nplt.legend()\nplt.show()"
      ]
    }
  ],
  "metadata": {
    "kernelspec": {
      "display_name": "Python 3",
      "language": "python",
      "name": "python3"
    },
    "language_info": {
      "codemirror_mode": {
        "name": "ipython",
        "version": 3
      },
      "file_extension": ".py",
      "mimetype": "text/x-python",
      "name": "python",
      "nbconvert_exporter": "python",
      "pygments_lexer": "ipython3",
      "version": "3.11.13"
    }
  },
  "nbformat": 4,
  "nbformat_minor": 0
}