{
  "cells": [
    {
      "cell_type": "markdown",
      "metadata": {},
      "source": [
        "\n# Print properties\n\nThis example demonstrates the computation of scattering properties using PyMieSim.\n"
      ]
    },
    {
      "cell_type": "markdown",
      "metadata": {},
      "source": [
        "Importing the package: PyMieSim\n\n"
      ]
    },
    {
      "cell_type": "code",
      "execution_count": null,
      "metadata": {
        "collapsed": false
      },
      "outputs": [],
      "source": [
        "from TypedUnit import ureg\n\nfrom PyMieSim.single.scatterer import Cylinder\nfrom PyMieSim.single.source import Gaussian\nfrom PyOptik import Material"
      ]
    },
    {
      "cell_type": "markdown",
      "metadata": {},
      "source": [
        "Defining the source\n\n"
      ]
    },
    {
      "cell_type": "code",
      "execution_count": null,
      "metadata": {
        "collapsed": false
      },
      "outputs": [],
      "source": [
        "source = Gaussian(\n    wavelength=750 * ureg.nanometer,  # 750 nm\n    polarization=30 * ureg.degree,  # Right circular polarization\n    optical_power=1 * ureg.watt,  # Power in watt\n    NA=0.3 * ureg.AU,  # Numerical Aperture\n)"
      ]
    },
    {
      "cell_type": "markdown",
      "metadata": {},
      "source": [
        "Defining the scatterer\n\n"
      ]
    },
    {
      "cell_type": "code",
      "execution_count": null,
      "metadata": {
        "collapsed": false
      },
      "outputs": [],
      "source": [
        "scatterer = Cylinder(\n    diameter=300 * ureg.nanometer,  # 300 nm\n    source=source,\n    property=(1.4 + 0.1j) * ureg.RIU,\n    medium_property=Material.water,\n)\n\nscatterer.print_properties()"
      ]
    }
  ],
  "metadata": {
    "kernelspec": {
      "display_name": "Python 3",
      "language": "python",
      "name": "python3"
    },
    "language_info": {
      "codemirror_mode": {
        "name": "ipython",
        "version": 3
      },
      "file_extension": ".py",
      "mimetype": "text/x-python",
      "name": "python",
      "nbconvert_exporter": "python",
      "pygments_lexer": "ipython3",
      "version": "3.11.13"
    }
  },
  "nbformat": 4,
  "nbformat_minor": 0
}