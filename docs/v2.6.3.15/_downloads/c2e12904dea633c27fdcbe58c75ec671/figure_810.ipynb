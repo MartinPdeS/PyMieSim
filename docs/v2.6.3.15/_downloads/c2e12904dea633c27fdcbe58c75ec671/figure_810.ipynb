{
  "cells": [
    {
      "cell_type": "markdown",
      "metadata": {},
      "source": [
        "\n# Cylinder Scatterer Bohren-Huffman figure 8.10\n"
      ]
    },
    {
      "cell_type": "markdown",
      "metadata": {},
      "source": [
        "Importing the dependencies: numpy, matplotlib, PyMieSim\n\n"
      ]
    },
    {
      "cell_type": "code",
      "execution_count": null,
      "metadata": {
        "collapsed": false
      },
      "outputs": [],
      "source": [
        "import numpy\nimport matplotlib.pyplot as plt\n\nfrom PyMieSim.directories import validation_data_path\nfrom PyMieSim.single.source import Gaussian\nfrom PyMieSim.single.scatterer import Cylinder\nfrom PyMieSim.units import degree, watt, AU, RIU, nanometer\nfrom MPSPlots.styles import mps\n\ntheoretical = numpy.genfromtxt(f\"{validation_data_path}/bohren_huffman/figure_810.csv\", delimiter=',')\n\nx = theoretical[:, 0]\ny = theoretical[:, 1]\n\nsource = Gaussian(\n    wavelength=470 * nanometer,\n    polarization=90 * degree,\n    optical_power=1e-3 * watt,\n    NA=0.1 * AU,\n)\n\nscatterer = Cylinder(\n    diameter=3000 * nanometer,\n    source=source,\n    property=(1.0 + 0.07j) * RIU,\n    medium_property=1.0 * RIU\n)\n\nS1S2 = scatterer.get_s1s2(sampling=800)\ndata = (numpy.abs(S1S2.S1)**2 + numpy.abs(S1S2.S2)**2) * (0.5 / (numpy.pi * source.wavenumber.to_base_units()))**(1 / 4)\n\nwith plt.style.context(mps):\n    figure, ax = plt.subplots(1, 1)\n\nax.plot(S1S2.phi, data, 'C1-', linewidth=3, label='PyMieSim')\nax.plot(x, y, 'k--', linewidth=1, label='B&H [8.10]')\n\nax.set(\n    xlabel='scatterertering angle [degree]',\n    ylabel='Phase function',\n    yscale='log',\n)\n\nax.legend()\nplt.show()\n\n\n# -"
      ]
    }
  ],
  "metadata": {
    "kernelspec": {
      "display_name": "Python 3",
      "language": "python",
      "name": "python3"
    },
    "language_info": {
      "codemirror_mode": {
        "name": "ipython",
        "version": 3
      },
      "file_extension": ".py",
      "mimetype": "text/x-python",
      "name": "python",
      "nbconvert_exporter": "python",
      "pygments_lexer": "ipython3",
      "version": "3.10.15"
    }
  },
  "nbformat": 4,
  "nbformat_minor": 0
}