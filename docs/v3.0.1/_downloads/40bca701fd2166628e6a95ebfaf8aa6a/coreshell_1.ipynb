{
  "cells": [
    {
      "cell_type": "markdown",
      "metadata": {},
      "source": [
        "\n# Core-Shell Particles: 1\n"
      ]
    },
    {
      "cell_type": "code",
      "execution_count": null,
      "metadata": {
        "collapsed": false
      },
      "outputs": [],
      "source": [
        "# Standard library imports\nimport numpy as np\nimport pandas as pd\nimport matplotlib.pyplot as plt\n\n# PyMieSim imports\nfrom PyMieSim.experiment.scatterer import CoreShell\nfrom PyMieSim.experiment.source import Gaussian\nfrom PyMieSim.experiment import Setup\nfrom PyMieSim.units import degree, watt, AU, RIU, nanometer\nfrom PyMieSim.directories import validation_data_path\nfrom MPSPlots.styles import mps\n\n# Define parameters\nwavelength = 600 * nanometer  # Light source wavelength in meters\npolarization = 0 * degree\noptical_power = 1 * watt  # Optical power in watts\nNA = 0.2 * AU  # Numerical aperture\nmedium_index = 1.0 * RIU\ncore_index = 1.5 * RIU\nshell_index = 1.4 * RIU\nshell_thickness = 1200 * nanometer  # Shell width in meters\ncore_diameters = np.geomspace(10, 500, 400) * nanometer  # Core diameters in meters\n\n# Configure the Gaussian source\nsource = Gaussian(\n    wavelength=wavelength,\n    polarization=polarization,\n    optical_power=optical_power,\n    NA=NA\n)\n\n# Setup core-shell scatterer\nscatterer = CoreShell(\n    core_diameter=core_diameters,\n    shell_thickness=shell_thickness,\n    core_property=core_index,\n    shell_property=shell_index,\n    medium_property=medium_index,\n    source=source\n)\n\n# Create experimental setup\nexperiment = Setup(scatterer=scatterer, source=source)\n\ncomparison_measures = ['Qsca', 'Qext', 'Qabs', 'g', 'Qpr', 'Qback']\n\n# Simulate using PyMieSim\npymiesim_dataframe = experiment.get(*comparison_measures).pint.dequantify().reset_index().pint.quantify()\n\npymiescatt_dataframe = pd.read_csv(validation_data_path / 'pymiescatt/example_coreshell_1.csv')\n\n# Plot results\nwith plt.style.context(mps):\n    figure, ax = plt.subplots(1, 1)\n\n\npymiescatt_dataframe.plot(x='core_diameter', y=comparison_measures, ax=ax, linewidth=3)\npymiesim_dataframe.plot(x='scatterer:core_diameter', ax=ax, color='black', linestyle='--', linewidth=1.5)\n\n\nax.set(\n    xlabel='Core Diameter (\u03bcm)',\n    ylabel='Scattering Efficiency',\n    title='Comparison of Scattering Efficiency for Core-Shell Particles',\n)\nplt.legend()\nplt.show()"
      ]
    }
  ],
  "metadata": {
    "kernelspec": {
      "display_name": "Python 3",
      "language": "python",
      "name": "python3"
    },
    "language_info": {
      "codemirror_mode": {
        "name": "ipython",
        "version": 3
      },
      "file_extension": ".py",
      "mimetype": "text/x-python",
      "name": "python",
      "nbconvert_exporter": "python",
      "pygments_lexer": "ipython3",
      "version": "3.11.11"
    }
  },
  "nbformat": 4,
  "nbformat_minor": 0
}