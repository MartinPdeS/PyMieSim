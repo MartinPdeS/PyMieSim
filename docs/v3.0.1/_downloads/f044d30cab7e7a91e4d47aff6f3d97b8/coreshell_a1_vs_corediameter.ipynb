{
  "cells": [
    {
      "cell_type": "markdown",
      "metadata": {},
      "source": [
        "\n# CoreShell: An vs Core Diameter\n\nThis example demonstrates how to compute and visualize the B1 scattering parameter as a function of core diameter for CoreShell scatterers using PyMieSim.\n"
      ]
    },
    {
      "cell_type": "markdown",
      "metadata": {},
      "source": [
        "Importing the package dependencies: numpy, PyMieSim\n\n"
      ]
    },
    {
      "cell_type": "code",
      "execution_count": null,
      "metadata": {
        "collapsed": false
      },
      "outputs": [],
      "source": [
        "import numpy as np\nfrom PyMieSim.experiment.scatterer import CoreShell\nfrom PyMieSim.experiment.source import Gaussian\nfrom PyMieSim.experiment import Setup\nfrom PyOptik import Material\nfrom PyMieSim.units import nanometer, degree, watt, AU, RIU"
      ]
    },
    {
      "cell_type": "markdown",
      "metadata": {},
      "source": [
        "Defining the source\nIn the LMT framework, the source is always considered a plane wave with a default amplitude of one.\n\n"
      ]
    },
    {
      "cell_type": "code",
      "execution_count": null,
      "metadata": {
        "collapsed": false
      },
      "outputs": [],
      "source": [
        "source = Gaussian(\n    wavelength=800 * nanometer,  # 800 nm\n    polarization=0 * degree,  # Linear polarization angle in radians\n    optical_power=1e-3 * watt,  # 1 milliwatt\n    NA=0.2 * AU  # Numerical Aperture\n)"
      ]
    },
    {
      "cell_type": "markdown",
      "metadata": {},
      "source": [
        "Defining the scatterer distribution\nHere, we explore core/shell scatterers with a constant shell diameter and variable core diameter.\n\n"
      ]
    },
    {
      "cell_type": "code",
      "execution_count": null,
      "metadata": {
        "collapsed": false
      },
      "outputs": [],
      "source": [
        "scatterer = CoreShell(\n    core_diameter=np.geomspace(100, 600, 10) * nanometer,  # Geometrically spaced core diameters\n    shell_thickness=150 * nanometer,  # Shell width of 800 nm\n    core_property=[1.4] * RIU,  # Refractive index of the core\n    shell_property=[Material.BK7],  # BK7 glass material for the shell\n    medium_property=1 * RIU,  # Refractive index of the surrounding medium\n    source=source\n)"
      ]
    },
    {
      "cell_type": "markdown",
      "metadata": {},
      "source": [
        "Defining the experiment setup\nIntegrating the defined source and scatterers into a single experimental setup.\n\n"
      ]
    },
    {
      "cell_type": "code",
      "execution_count": null,
      "metadata": {
        "collapsed": false
      },
      "outputs": [],
      "source": [
        "experiment = Setup(scatterer=scatterer, source=source)"
      ]
    },
    {
      "cell_type": "markdown",
      "metadata": {},
      "source": [
        "Measuring the B1 scattering parameter\nHere, we're interested in the a3 (first magnetic coefficient) parameter, which seems to be a typo for B1.\n\n"
      ]
    },
    {
      "cell_type": "code",
      "execution_count": null,
      "metadata": {
        "collapsed": false
      },
      "outputs": [],
      "source": [
        "dataframe = experiment.get('a1', 'a2', 'a3',  'Qsca')"
      ]
    },
    {
      "cell_type": "markdown",
      "metadata": {},
      "source": [
        "Plotting the results\nVisualizing how the B1 (a3) parameter varies with the core diameter.\n\n"
      ]
    },
    {
      "cell_type": "code",
      "execution_count": null,
      "metadata": {
        "collapsed": false
      },
      "outputs": [],
      "source": [
        "dataframe.plot_data(x=\"scatterer:core_diameter\")"
      ]
    }
  ],
  "metadata": {
    "kernelspec": {
      "display_name": "Python 3",
      "language": "python",
      "name": "python3"
    },
    "language_info": {
      "codemirror_mode": {
        "name": "ipython",
        "version": 3
      },
      "file_extension": ".py",
      "mimetype": "text/x-python",
      "name": "python",
      "nbconvert_exporter": "python",
      "pygments_lexer": "ipython3",
      "version": "3.11.10"
    }
  },
  "nbformat": 4,
  "nbformat_minor": 0
}