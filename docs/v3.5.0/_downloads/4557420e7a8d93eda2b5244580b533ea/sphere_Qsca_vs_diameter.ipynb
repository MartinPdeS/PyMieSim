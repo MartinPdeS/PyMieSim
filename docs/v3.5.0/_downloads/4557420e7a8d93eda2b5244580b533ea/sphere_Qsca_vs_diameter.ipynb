{
  "cells": [
    {
      "cell_type": "markdown",
      "metadata": {},
      "source": [
        "\n# Sphere: Qsca vs diameter\n"
      ]
    },
    {
      "cell_type": "markdown",
      "metadata": {},
      "source": [
        "Importing the package dependencies: numpy, PyMieSim\n\n"
      ]
    },
    {
      "cell_type": "code",
      "execution_count": null,
      "metadata": {
        "collapsed": false
      },
      "outputs": [],
      "source": [
        "import numpy as np\n\nfrom PyMieSim.experiment.scatterer import Sphere\nfrom PyMieSim.experiment.source import Gaussian\nfrom PyMieSim.experiment.detector import Photodiode\n\nfrom PyMieSim.experiment import Setup\nfrom PyMieSim import units\nfrom PyMieSim.units import nanometer, degree, watt, AU, RIU\nfrom PyOptik import Material\nMaterial.print_available()\nimport PyMieSim\nPyMieSim.debug_mode = True"
      ]
    },
    {
      "cell_type": "markdown",
      "metadata": {},
      "source": [
        "Defining the source to be employed.\n\n"
      ]
    },
    {
      "cell_type": "code",
      "execution_count": null,
      "metadata": {
        "collapsed": false
      },
      "outputs": [],
      "source": [
        "source_1 = Gaussian(\n    wavelength=[405, 810] * nanometer,\n    polarization=0 * degree,\n    optical_power=1e-3 * watt,\n    NA=0.2 * AU\n)\n\nscatterer_1 = Sphere(\n    diameter=np.linspace(10, 1000, 150) * nanometer,\n    medium_property=[1.33] * RIU,\n    property=Material.polystyren,\n    source=source_1\n)\n\ndetector_1 = Photodiode(\n    NA=[0.9 / 1.33, 1.3 / 1.33, 0.2, 0.1] * units.AU,\n    gamma_offset=[0] * units.degree,\n    phi_offset=90 * units.degree,\n\n)"
      ]
    },
    {
      "cell_type": "markdown",
      "metadata": {},
      "source": [
        "Defining the experiment setup\n\n"
      ]
    },
    {
      "cell_type": "code",
      "execution_count": null,
      "metadata": {
        "collapsed": false
      },
      "outputs": [],
      "source": [
        "experiment_1 = Setup(scatterer=scatterer_1, source=source_1, detector=detector_1)\n\ndataframe_1 = experiment_1.get('b1', scale_unit=True, drop_unique_level=True)\n\n# dataframe_1._plot(x='scatterer:diameter', std='detector:NA', show=True)\ndataframe_1.plot(x='scatterer:diameter', show=True)\n\n\n\n\n\n\n\n\n\n# plt.show()"
      ]
    }
  ],
  "metadata": {
    "kernelspec": {
      "display_name": "Python 3",
      "language": "python",
      "name": "python3"
    },
    "language_info": {
      "codemirror_mode": {
        "name": "ipython",
        "version": 3
      },
      "file_extension": ".py",
      "mimetype": "text/x-python",
      "name": "python",
      "nbconvert_exporter": "python",
      "pygments_lexer": "ipython3",
      "version": "3.11.12"
    }
  },
  "nbformat": 4,
  "nbformat_minor": 0
}