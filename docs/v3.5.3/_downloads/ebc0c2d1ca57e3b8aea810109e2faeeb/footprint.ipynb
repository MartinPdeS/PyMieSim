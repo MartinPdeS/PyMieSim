{
  "cells": [
    {
      "cell_type": "markdown",
      "metadata": {},
      "source": [
        "\n# Scatterer Footprint Calculation and Visualization\n\nThis example demonstrates how to compute and visualize the footprint of a scatterer using PyMieSim.\n"
      ]
    },
    {
      "cell_type": "code",
      "execution_count": null,
      "metadata": {
        "collapsed": false
      },
      "outputs": [],
      "source": [
        "# Import necessary components from PyMieSim\nfrom PyMieSim.single.scatterer import Sphere\nfrom PyMieSim.single.detector import CoherentMode\nfrom PyMieSim.single.source import Gaussian\nfrom PyOptik import Material\nfrom PyMieSim.units import micrometer, degree, watt, AU, RIU\n\n# Define the Gaussian light source with specified properties\nsource = Gaussian(\n    wavelength=1 * micrometer,  # 1000 nm\n    polarization=0 * degree,\n    optical_power=1 * watt,  # Arbitrary units\n    NA=0.3 * AU  # Numerical Aperture\n)\n\n# Create a spherical scatterer with a specified diameter and property\nscatterer = Sphere(\n    diameter=2 * micrometer,  # 2000 nm\n    source=source,\n    medium_property=1.0 * RIU,  # Refractive index of the surrounding medium\n    property=Material.BK7  # Using BK7 glass property\n)\n\n# Define the LPMode detector with specific parameters\ndetector = CoherentMode(\n    mode_number=\"HG02\",\n    NA=0.3 * AU,\n    sampling=200 * AU,  # Number of sampling points\n    gamma_offset=0 * degree,\n    phi_offset=0 * degree,\n)\n\n# Compute the footprint data using the defined scatterer and detector\ndata = detector.get_footprint(scatterer)\n\n# Plot the computed footprint data\nfigure = data.plot()"
      ]
    }
  ],
  "metadata": {
    "kernelspec": {
      "display_name": "Python 3",
      "language": "python",
      "name": "python3"
    },
    "language_info": {
      "codemirror_mode": {
        "name": "ipython",
        "version": 3
      },
      "file_extension": ".py",
      "mimetype": "text/x-python",
      "name": "python",
      "nbconvert_exporter": "python",
      "pygments_lexer": "ipython3",
      "version": "3.11.13"
    }
  },
  "nbformat": 4,
  "nbformat_minor": 0
}