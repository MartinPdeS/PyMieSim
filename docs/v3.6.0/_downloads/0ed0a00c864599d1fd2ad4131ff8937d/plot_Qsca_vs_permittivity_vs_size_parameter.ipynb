{
  "cells": [
    {
      "cell_type": "markdown",
      "metadata": {},
      "source": [
        "\n# Scattering efficiency of a sphere\n\nPyMieSim makes it easy to create a source and a scatterer. With these objects\ndefined, it is possible to use PyMieSim to find the scattering efficiency of the\nscatterer. This feature can be used to plot a graph of the scattering efficiency\nof a sphere as a function of the permittivity and the size parameter.\n"
      ]
    },
    {
      "cell_type": "markdown",
      "metadata": {},
      "source": [
        "Importing the package: PyMieSim\n\n"
      ]
    },
    {
      "cell_type": "code",
      "execution_count": null,
      "metadata": {
        "collapsed": false
      },
      "outputs": [],
      "source": [
        "import numpy\n\nfrom PyMieSim.experiment.scatterer import Sphere\nfrom PyMieSim.experiment.source import Gaussian\nfrom PyMieSim.experiment import Setup\nfrom PyMieSim.units import degree, watt, AU, nanometer, RIU\n\nimport matplotlib.pyplot as plt\n\n\npermitivity = numpy.linspace(-10, 50, 400)\n\nindex = numpy.sqrt(permitivity.astype(complex)) * RIU\n\ndiameter = numpy.linspace(1, 200, 400) * nanometer\n\nsource = Gaussian(\n    wavelength=400 * nanometer,\n    polarization=90 * degree,\n    optical_power=1e-3 * watt,\n    NA=0.2 * AU\n)\n\n\nscatterer = Sphere(\n    diameter=diameter,\n    property=index,\n    medium_property=1 * RIU,\n    source=source\n)\n\nexperiment = Setup(\n    scatterer=scatterer,\n    source=source\n)\n\ndata = experiment.get('Qsca', add_units=False).squeeze().values.reshape([permitivity.size, diameter.size])\n\nfigure, ax = plt.subplots(1, 1)\nax.set(\n    xlabel=\"Permittivity\",\n    ylabel=r'Diameter [$\\mu$ m]',\n    title=\"Scattering efficiency of a sphere\"\n)\n\nimage = ax.pcolormesh(permitivity, diameter, numpy.log(data))\n\nplt.colorbar(mappable=image)\n\nplt.show()"
      ]
    }
  ],
  "metadata": {
    "kernelspec": {
      "display_name": "Python 3",
      "language": "python",
      "name": "python3"
    },
    "language_info": {
      "codemirror_mode": {
        "name": "ipython",
        "version": 3
      },
      "file_extension": ".py",
      "mimetype": "text/x-python",
      "name": "python",
      "nbconvert_exporter": "python",
      "pygments_lexer": "ipython3",
      "version": "3.11.13"
    }
  },
  "nbformat": 4,
  "nbformat_minor": 0
}