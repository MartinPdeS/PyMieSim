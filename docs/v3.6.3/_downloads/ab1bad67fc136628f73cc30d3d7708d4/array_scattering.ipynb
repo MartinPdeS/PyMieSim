{
  "cells": [
    {
      "cell_type": "markdown",
      "metadata": {},
      "source": [
        "\n# Array-based scattering calculations\n\nThis example demonstrates how to compute far fields, S1/S2 amplitudes and\nStokes parameters using arbitrary ``phi`` and ``theta`` arrays.\n"
      ]
    },
    {
      "cell_type": "code",
      "execution_count": null,
      "metadata": {
        "collapsed": false
      },
      "outputs": [],
      "source": [
        "import numpy as np\nfrom PyMieSim.single.scatterer import Sphere\nfrom PyMieSim.single.source import PlaneWave\nfrom PyMieSim.units import nanometer, degree, RIU, volt, meter, radian\nimport matplotlib.pyplot as plt"
      ]
    },
    {
      "cell_type": "markdown",
      "metadata": {},
      "source": [
        "Create a simple plane wave source\n\n"
      ]
    },
    {
      "cell_type": "code",
      "execution_count": null,
      "metadata": {
        "collapsed": false
      },
      "outputs": [],
      "source": [
        "source = PlaneWave(\n    wavelength=632.8 * nanometer,\n    polarization=0 * degree,\n    amplitude=1 * volt / meter,\n)"
      ]
    },
    {
      "cell_type": "markdown",
      "metadata": {},
      "source": [
        "Define the scatterer\n\n"
      ]
    },
    {
      "cell_type": "code",
      "execution_count": null,
      "metadata": {
        "collapsed": false
      },
      "outputs": [],
      "source": [
        "scatterer = Sphere(\n    diameter=200 * nanometer,\n    property=1.5 * RIU,\n    medium_property=1.0 * RIU,\n    source=source,\n)\n\n# Define arbitrary angle arrays\nphi = np.linspace(0, np.pi, 150) * radian\ntheta = np.linspace(0, np.pi / 2, 150) * radian"
      ]
    },
    {
      "cell_type": "markdown",
      "metadata": {},
      "source": [
        "Far-field complex fields\n\n"
      ]
    },
    {
      "cell_type": "code",
      "execution_count": null,
      "metadata": {
        "collapsed": false
      },
      "outputs": [],
      "source": [
        "E_para, E_perp = scatterer.get_far_field_array(phi, theta)\n\nplt.figure(figsize=(10, 5))\nplt.subplot(1, 2, 1)\nplt.plot(phi, np.abs(E_para), label='E_para')\nplt.title('E_para Far Field')\nplt.xlabel('Phi (radians)')\nplt.ylabel('Magnitude')\nplt.legend()\nplt.subplot(1, 2, 2)\nplt.plot(phi, np.abs(E_perp), label='E_perp', color='orange')\nplt.title('E_perp Far Field')\nplt.xlabel('Phi (radians)')\nplt.ylabel('Magnitude')\nplt.legend()\nplt.tight_layout()\nplt.show()"
      ]
    },
    {
      "cell_type": "markdown",
      "metadata": {},
      "source": [
        "S1 and S2 scattering amplitudes\n\n"
      ]
    },
    {
      "cell_type": "code",
      "execution_count": null,
      "metadata": {
        "collapsed": false
      },
      "outputs": [],
      "source": [
        "S1, S2 = scatterer.get_s1s2_array(phi)\n\nplt.figure(figsize=(10, 5))\nplt.subplot(1, 2, 1)\nplt.plot(phi, np.abs(S1), label='S1')\nplt.title('S1 Scattering Amplitude')\nplt.xlabel('Phi (radians)')\nplt.ylabel('Magnitude')\nplt.legend()\nplt.subplot(1, 2, 2)\nplt.plot(phi, np.abs(S2), label='S2', color='orange')\nplt.title('S2 Scattering Amplitude')\nplt.xlabel('Phi (radians)')\nplt.ylabel('Magnitude')\nplt.legend()\nplt.tight_layout()\nplt.show()"
      ]
    },
    {
      "cell_type": "markdown",
      "metadata": {},
      "source": [
        "Stokes parameters\n\n"
      ]
    },
    {
      "cell_type": "code",
      "execution_count": null,
      "metadata": {
        "collapsed": false
      },
      "outputs": [],
      "source": [
        "I, Q, U, V = scatterer.get_stokes_array(phi, theta)\n\nplt.figure(figsize=(10, 5))\nplt.subplot(2, 2, 1)\nplt.plot(phi, I, label='I')\nplt.title('Stokes I')\nplt.xlabel('Phi (radians)')\nplt.ylabel('Intensity')\nplt.legend()\nplt.subplot(2, 2, 2)\nplt.plot(phi, Q, label='Q', color='orange')\nplt.title('Stokes Q')\nplt.xlabel('Phi (radians)')\nplt.ylabel('Intensity')\nplt.legend()\nplt.subplot(2, 2, 3)\nplt.plot(phi, U, label='U', color='green')\nplt.title('Stokes U')\nplt.xlabel('Phi (radians)')\nplt.ylabel('Intensity')\nplt.legend()\nplt.subplot(2, 2, 4)\nplt.plot(phi, V, label='V', color='red')\nplt.title('Stokes V')\nplt.xlabel('Phi (radians)')\nplt.ylabel('Intensity')\nplt.legend()\nplt.tight_layout()\nplt.show()"
      ]
    }
  ],
  "metadata": {
    "kernelspec": {
      "display_name": "Python 3",
      "language": "python",
      "name": "python3"
    },
    "language_info": {
      "codemirror_mode": {
        "name": "ipython",
        "version": 3
      },
      "file_extension": ".py",
      "mimetype": "text/x-python",
      "name": "python",
      "nbconvert_exporter": "python",
      "pygments_lexer": "ipython3",
      "version": "3.11.13"
    }
  },
  "nbformat": 4,
  "nbformat_minor": 0
}