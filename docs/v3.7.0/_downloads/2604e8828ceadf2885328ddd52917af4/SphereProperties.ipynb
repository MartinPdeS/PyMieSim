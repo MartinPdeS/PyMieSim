{
  "cells": [
    {
      "cell_type": "markdown",
      "metadata": {},
      "source": [
        "\n# Samples Properties\n"
      ]
    },
    {
      "cell_type": "code",
      "execution_count": null,
      "metadata": {
        "collapsed": false
      },
      "outputs": [],
      "source": [
        "from PyMieSim.single.scatterer import Sphere\nfrom PyMieSim.single.source import Gaussian\nfrom PyMieSim.units import degree, nanometer, AU, RIU, watt\n\nsource = Gaussian(\n    wavelength=1000 * nanometer,\n    polarization=0 * degree,\n    optical_power=1 * watt,\n    NA=0.3 * AU\n)\n\nsource.plot()\n\nscatterer = Sphere(\n    diameter=800 * nanometer,\n    source=source,\n    property=1.4 * RIU,\n    medium_property=1.0 * RIU\n)\n\n\nfarfield = scatterer.get_farfield(sampling=300)\n\nfarfield.plot()\n\nscatterer.print_properties()\n\n# Property        Value\n# --------------  ----------------------\n# size_parameter  2.513274122871834\n# area            502654.8245743669 nm\u00b2\n# g               0.6960064419371799\n# Qsca            1.7376473038362086\n# Qext            1.7376473038362086\n# Qabs            0.0\n# Qback           0.3550202921419265\n# Qratio          0.20431090438096802\n# Qpr             0.5282335865514354\n# Csca            873436.800681911 nm\u00b2\n# Cext            873436.800681911 nm\u00b2\n# Cabs            0.0 m\u00b2\n# Cback           178452.66266694054 nm\u00b2\n# Cratio          102697.86180024572 nm\u00b2\n# Cpr             265519.1607823004 nm\u00b2"
      ]
    }
  ],
  "metadata": {
    "kernelspec": {
      "display_name": "Python 3",
      "language": "python",
      "name": "python3"
    },
    "language_info": {
      "codemirror_mode": {
        "name": "ipython",
        "version": 3
      },
      "file_extension": ".py",
      "mimetype": "text/x-python",
      "name": "python",
      "nbconvert_exporter": "python",
      "pygments_lexer": "ipython3",
      "version": "3.11.13"
    }
  },
  "nbformat": 4,
  "nbformat_minor": 0
}