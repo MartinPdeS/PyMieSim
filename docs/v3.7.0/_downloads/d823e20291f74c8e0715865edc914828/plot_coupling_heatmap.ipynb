{
  "cells": [
    {
      "cell_type": "markdown",
      "metadata": {},
      "source": [
        "\n# Coupling heatmap of a sphere\n\nPyMieSim makes it easy to create a source and a scatterer. With these objects\ndefined, it is possible to use PyMieSim to find the scattering efficiency of the\nscatterer. This feature can be used to plot a graph of the scattering efficiency\nof a sphere as a function of the permittivity and the size parameter.\n"
      ]
    },
    {
      "cell_type": "code",
      "execution_count": null,
      "metadata": {
        "collapsed": false
      },
      "outputs": [],
      "source": [
        "import numpy\nfrom TypedUnit import ureg\nimport matplotlib.pyplot as plt\n\nfrom PyMieSim.experiment.detector import Photodiode\nfrom PyMieSim.experiment.scatterer import Sphere\nfrom PyMieSim.experiment.source import Gaussian\nfrom PyMieSim.experiment import Setup\n\n\n\nindex = numpy.linspace(1.3, 2.1, 100) * ureg.RIU\n\ndiameter = numpy.linspace(1, 2000, 100) * ureg.nanometer\n\nsource = Gaussian(\n    wavelength=400 * ureg.nanometer,\n    polarization=90 * ureg.degree,\n    optical_power=1e-3 * ureg.watt,\n    NA=0.2 * ureg.AU\n)\n\n\nscatterer = Sphere(\n    diameter=diameter,\n    property=index,\n    medium_property=1 * ureg.RIU,\n    source=source\n)\n\n\ndetector = Photodiode(\n    polarization_filter=0 * ureg.degree,\n    NA=0.3 * ureg.RIU,\n    phi_offset=0 * ureg.degree,\n    gamma_offset=0 * ureg.degree,\n    sampling=400 * ureg.AU\n)\n\nexperiment = Setup(scatterer=scatterer, source=source, detector=detector)\n\ndataframe = experiment.get('coupling', add_units=False)\n\nvalues = dataframe.values.reshape([diameter.size, index.size])\n\nfigure, ax = plt.subplots(1, 1)\n\nimage = ax.pcolormesh(index, diameter * 1e6, values, shading='auto')\nax.set(\n    xlabel=\"Permittivity\",\n    ylabel=r'Diameter [$\\mu$m]',\n    title=\"Coupling power [Watt]\"\n)\nplt.colorbar(mappable=image)\n\nplt.show()"
      ]
    }
  ],
  "metadata": {
    "kernelspec": {
      "display_name": "Python 3",
      "language": "python",
      "name": "python3"
    },
    "language_info": {
      "codemirror_mode": {
        "name": "ipython",
        "version": 3
      },
      "file_extension": ".py",
      "mimetype": "text/x-python",
      "name": "python",
      "nbconvert_exporter": "python",
      "pygments_lexer": "ipython3",
      "version": "3.11.13"
    }
  },
  "nbformat": 4,
  "nbformat_minor": 0
}