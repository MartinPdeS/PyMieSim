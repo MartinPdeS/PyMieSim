{
  "cells": [
    {
      "cell_type": "markdown",
      "metadata": {},
      "source": [
        "\n# SPF Computation\n\nThis example demonstrates the computation and visualization of the Scattering Phase Function (SPF) using PyMieSim.\n"
      ]
    },
    {
      "cell_type": "markdown",
      "metadata": {},
      "source": [
        "Importing the package: PyMieSim\n\n"
      ]
    },
    {
      "cell_type": "code",
      "execution_count": null,
      "metadata": {
        "collapsed": false
      },
      "outputs": [],
      "source": [
        "from TypedUnit import ureg\n\nfrom PyMieSim.single.scatterer import CoreShell\nfrom PyMieSim.single.source import Gaussian"
      ]
    },
    {
      "cell_type": "markdown",
      "metadata": {},
      "source": [
        "Defining the source\n\n"
      ]
    },
    {
      "cell_type": "code",
      "execution_count": null,
      "metadata": {
        "collapsed": false
      },
      "outputs": [],
      "source": [
        "source = Gaussian(\n    wavelength=1000 * ureg.nanometer,  # 1000 nm\n    polarization=0 * ureg.degree,  # Linear polarization angle in radians\n    optical_power=1 * ureg.watt,  # Arbitrary units\n    NA=0.3 * ureg.AU  # Numerical Aperture\n)"
      ]
    },
    {
      "cell_type": "markdown",
      "metadata": {},
      "source": [
        "Defining the scatterer\n\n"
      ]
    },
    {
      "cell_type": "code",
      "execution_count": null,
      "metadata": {
        "collapsed": false
      },
      "outputs": [],
      "source": [
        "scatterer = CoreShell(\n    core_diameter=500 * ureg.nanometer,  # 500 nm\n    shell_thickness=100 * ureg.nanometer,  # 100 nm\n    source=source,\n    core_property=1.4 * ureg.RIU,  # Refractive property of the core\n    shell_property=1.8 * ureg.RIU,  # Refractive property of the shell\n    medium_property=1.0 * ureg.RIU,  # Refractive property of the surrounding medium\n)"
      ]
    },
    {
      "cell_type": "markdown",
      "metadata": {},
      "source": [
        "Computing the data\n\n"
      ]
    },
    {
      "cell_type": "code",
      "execution_count": null,
      "metadata": {
        "collapsed": false
      },
      "outputs": [],
      "source": [
        "data = scatterer.get_spf(sampling=300)  # Specify the number of sampling points"
      ]
    },
    {
      "cell_type": "markdown",
      "metadata": {},
      "source": [
        "Plotting the data\n\n"
      ]
    },
    {
      "cell_type": "code",
      "execution_count": null,
      "metadata": {
        "collapsed": false
      },
      "outputs": [],
      "source": [
        "figure = data.plot()"
      ]
    }
  ],
  "metadata": {
    "kernelspec": {
      "display_name": "Python 3",
      "language": "python",
      "name": "python3"
    },
    "language_info": {
      "codemirror_mode": {
        "name": "ipython",
        "version": 3
      },
      "file_extension": ".py",
      "mimetype": "text/x-python",
      "name": "python",
      "nbconvert_exporter": "python",
      "pygments_lexer": "ipython3",
      "version": "3.11.13"
    }
  },
  "nbformat": 4,
  "nbformat_minor": 0
}