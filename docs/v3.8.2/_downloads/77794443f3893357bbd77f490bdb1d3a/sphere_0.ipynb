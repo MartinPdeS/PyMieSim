{
  "cells": [
    {
      "cell_type": "markdown",
      "metadata": {},
      "source": [
        "\n# Sphere Particles: 0\n"
      ]
    },
    {
      "cell_type": "code",
      "execution_count": null,
      "metadata": {
        "collapsed": false
      },
      "outputs": [],
      "source": [
        "# Standard library imports\nimport numpy as np\nimport pandas as pd\nimport matplotlib.pyplot as plt\nfrom TypedUnit import ureg\n\n# PyMieSim imports\nfrom PyMieSim.experiment.scatterer import Sphere\nfrom PyMieSim.experiment.source import Gaussian\nfrom PyMieSim.experiment import Setup\nfrom PyMieSim.directories import validation_data_path\nfrom MPSPlots.styles import mps\n\n\n# Define parameters\nwavelength = 632.8 * ureg.nanometer  # Wavelength of the light source in meters\npolarization_value = 0 * ureg.degree\noptical_power = 1e-3 * ureg.watt  # Power in watts\nNA = 0.2 * ureg.AU  # Numerical aperture\nmedium_index = 1.21 * ureg.RIU\nindex = 1.4 * ureg.RIU\ndiameters = (\n    np.geomspace(10, 1_000, 50) * ureg.nanometer\n)  # Geometric space for diameters\n\n# Setup source\nsource = Gaussian(\n    wavelength=wavelength,\n    polarization=polarization_value,\n    optical_power=optical_power,\n    NA=NA,\n)\n\n# Setup scatterer\nscatterer = Sphere(\n    diameter=diameters, property=index, medium_property=medium_index, source=source\n)\n\n# Define experiment setup\nexperiment = Setup(scatterer=scatterer, source=source)\n\ncomparison_measures = [\"Qsca\", \"Qext\", \"Qabs\", \"g\", \"Qpr\", \"Qback\"]\n\n# Simulate using PyMieSim\npymiesim_dataframe = experiment.get(*comparison_measures)\n\npymiescatt_dataframe = pd.read_csv(\n    validation_data_path / \"pymiescatt/example_shpere_0.csv\"\n)\n\n# Plot results\nwith plt.style.context(mps):\n    figure, ax = plt.subplots(1, 1)\n\npymiescatt_dataframe.diameter *= 1e9\n\npymiescatt_dataframe.plot(x=\"diameter\", y=comparison_measures, ax=ax, linewidth=3)\npymiesim_dataframe.plot(\n    x=\"scatterer:diameter\",\n    ax=ax,\n    color=\"black\",\n    linestyle=\"--\",\n    linewidth=1.5,\n    show=False,\n)\n\nax.set(\n    xlabel=\"Diameter [nm]\",\n    ylabel=\"Scattering Efficiencies\",\n    title=\"Scattering parameters Comparison for Sphere Particles\",\n)\n\nplt.legend()\nplt.show()"
      ]
    }
  ],
  "metadata": {
    "kernelspec": {
      "display_name": "Python 3",
      "language": "python",
      "name": "python3"
    },
    "language_info": {
      "codemirror_mode": {
        "name": "ipython",
        "version": 3
      },
      "file_extension": ".py",
      "mimetype": "text/x-python",
      "name": "python",
      "nbconvert_exporter": "python",
      "pygments_lexer": "ipython3",
      "version": "3.11.13"
    }
  },
  "nbformat": 4,
  "nbformat_minor": 0
}