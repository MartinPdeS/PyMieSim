{
  "cells": [
    {
      "cell_type": "markdown",
      "metadata": {},
      "source": [
        "\n# Far-field scattering simulation for bulk scatterers\n"
      ]
    },
    {
      "cell_type": "markdown",
      "metadata": {},
      "source": [
        "Importing the package dependencies: numpy, PyMieSim\n\n"
      ]
    },
    {
      "cell_type": "code",
      "execution_count": null,
      "metadata": {
        "collapsed": false
      },
      "outputs": [],
      "source": [
        "from TypedUnit import ureg\nimport numpy\nimport matplotlib.pyplot as plt\nfrom PyMieSim.experiment.scatterer import Sphere\nfrom PyMieSim.experiment.source import Gaussian\nfrom PyMieSim.experiment import Setup\nfrom PyMieSim.single.polarization import RightCircular\nfrom PyOptik import Material\nfrom PyMieSim.single.mesh import FibonacciMesh\nfrom PyMieSim.utils import spherical_to_cartesian"
      ]
    },
    {
      "cell_type": "markdown",
      "metadata": {},
      "source": [
        "Defining the source to be employed.\n\n"
      ]
    },
    {
      "cell_type": "code",
      "execution_count": null,
      "metadata": {
        "collapsed": false
      },
      "outputs": [],
      "source": [
        "source = Gaussian(\n    wavelength=1200 * ureg.nanometer,\n    polarization=RightCircular(),\n    optical_power=1e-3 * ureg.watt,\n    NA=0.2 * ureg.AU,\n)"
      ]
    },
    {
      "cell_type": "markdown",
      "metadata": {},
      "source": [
        "Defining the ranging parameters for the scatterer distribution\n\n"
      ]
    },
    {
      "cell_type": "code",
      "execution_count": null,
      "metadata": {
        "collapsed": false
      },
      "outputs": [],
      "source": [
        "scatterer = Sphere(\n    diameter=[800, 1000, 1200] * ureg.nanometer,\n    property=Material.BK7,\n    medium_property=1 * ureg.RIU,\n    source=source,\n)"
      ]
    },
    {
      "cell_type": "markdown",
      "metadata": {},
      "source": [
        "Defining the detector to be employed.\n\n"
      ]
    },
    {
      "cell_type": "code",
      "execution_count": null,
      "metadata": {
        "collapsed": false
      },
      "outputs": [],
      "source": [
        "mesh = FibonacciMesh(\n    sampling=1400,\n    max_angle=80 * ureg.degree,\n    min_angle=0 * ureg.degree,\n    phi_offset=0 * ureg.radian,\n    gamma_offset=0 * ureg.radian,\n)"
      ]
    },
    {
      "cell_type": "markdown",
      "metadata": {},
      "source": [
        "Defining the experiment setup\n\n"
      ]
    },
    {
      "cell_type": "code",
      "execution_count": null,
      "metadata": {
        "collapsed": false
      },
      "outputs": [],
      "source": [
        "experiment = Setup(scatterer=scatterer, source=source)"
      ]
    },
    {
      "cell_type": "markdown",
      "metadata": {},
      "source": [
        "Measuring the properties\n\n"
      ]
    },
    {
      "cell_type": "code",
      "execution_count": null,
      "metadata": {
        "collapsed": false
      },
      "outputs": [],
      "source": [
        "farfields = experiment.binding._get_farfields(\n    scatterer_set=experiment.scatterer.set,\n    source_set=experiment.source.set,\n    mesh=mesh,\n).squeeze()\n\n\nspf = numpy.einsum(\"ijk->ik\", abs(farfields) ** 2)\n\n\nfigure, axes = plt.subplots(\n    ncols=3,\n    nrows=1,\n    figsize=(12, 4),\n    subplot_kw={\"projection\": \"3d\"},\n    sharex=True,\n    sharey=True,\n)\n\n\nfor idx, ax in enumerate(axes):\n\n    x, y, z = spherical_to_cartesian(\n        phi=mesh.spherical.phi,\n        theta=mesh.spherical.theta,\n        r=spf[idx],\n    )\n\n    ax.scatter(x, y, z)\n    spf_min, spf_max = spf.min(), spf.max()\n    ax.set(\n        xlim=(-spf_max, spf_max),\n        ylim=(-spf_max, spf_max),\n        zlim=(-spf_max, spf_max),\n    )\n\n\nplt.show()"
      ]
    }
  ],
  "metadata": {
    "kernelspec": {
      "display_name": "Python 3",
      "language": "python",
      "name": "python3"
    },
    "language_info": {
      "codemirror_mode": {
        "name": "ipython",
        "version": 3
      },
      "file_extension": ".py",
      "mimetype": "text/x-python",
      "name": "python",
      "nbconvert_exporter": "python",
      "pygments_lexer": "ipython3",
      "version": "3.11.13"
    }
  },
  "nbformat": 4,
  "nbformat_minor": 0
}