{
  "cells": [
    {
      "cell_type": "markdown",
      "metadata": {},
      "source": [
        "\n# Sphere: Qsca vs diameter\n"
      ]
    },
    {
      "cell_type": "markdown",
      "metadata": {},
      "source": [
        "Importing the package dependencies: numpy, PyMieSim\n\n"
      ]
    },
    {
      "cell_type": "code",
      "execution_count": null,
      "metadata": {
        "collapsed": false
      },
      "outputs": [],
      "source": [
        "import numpy as np\nfrom TypedUnit import ureg\n\nfrom PyMieSim.experiment.scatterer import Sphere\nfrom PyMieSim.experiment.source import Gaussian\n\nfrom PyMieSim.experiment import Setup\nfrom PyOptik import Material\n\nMaterial.print_available()\nimport PyMieSim\n\nPyMieSim.debug_mode = True"
      ]
    },
    {
      "cell_type": "markdown",
      "metadata": {},
      "source": [
        "Defining the source to be employed.\n\n"
      ]
    },
    {
      "cell_type": "code",
      "execution_count": null,
      "metadata": {
        "collapsed": false
      },
      "outputs": [],
      "source": [
        "source = Gaussian(\n    wavelength=[405, 810] * ureg.nanometer,\n    polarization=0 * ureg.degree,\n    optical_power=1e-3 * ureg.watt,\n    NA=0.2 * ureg.AU,\n)\n\nscatterer = Sphere(\n    diameter=np.linspace(10, 1000, 150) * ureg.nanometer,\n    medium_property=[1.33, 1.34, 1.5] * ureg.RIU,\n    property=Material.polystyren,\n    source=source,\n)"
      ]
    },
    {
      "cell_type": "markdown",
      "metadata": {},
      "source": [
        "Defining the experiment setup\n\n"
      ]
    },
    {
      "cell_type": "code",
      "execution_count": null,
      "metadata": {
        "collapsed": false
      },
      "outputs": [],
      "source": [
        "experiment = Setup(scatterer=scatterer, source=source)\n\ndataframe = experiment.get(\"Qsca\", scale_unit=True)\n\ndataframe.plot(x=\"scatterer:diameter\", show=True)"
      ]
    }
  ],
  "metadata": {
    "kernelspec": {
      "display_name": "Python 3",
      "language": "python",
      "name": "python3"
    },
    "language_info": {
      "codemirror_mode": {
        "name": "ipython",
        "version": 3
      },
      "file_extension": ".py",
      "mimetype": "text/x-python",
      "name": "python",
      "nbconvert_exporter": "python",
      "pygments_lexer": "ipython3",
      "version": "3.11.14"
    }
  },
  "nbformat": 4,
  "nbformat_minor": 0
}