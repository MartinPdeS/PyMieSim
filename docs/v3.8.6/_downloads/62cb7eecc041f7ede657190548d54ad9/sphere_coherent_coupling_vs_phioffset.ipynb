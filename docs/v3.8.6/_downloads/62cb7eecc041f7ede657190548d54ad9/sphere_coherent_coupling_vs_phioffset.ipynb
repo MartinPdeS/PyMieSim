{
  "cells": [
    {
      "cell_type": "markdown",
      "metadata": {},
      "source": [
        "\n# Sphere: Coherent Goniometer\n"
      ]
    },
    {
      "cell_type": "markdown",
      "metadata": {},
      "source": [
        "Importing the package dependencies: numpy, PyMieSim\n\n"
      ]
    },
    {
      "cell_type": "code",
      "execution_count": null,
      "metadata": {
        "collapsed": false
      },
      "outputs": [],
      "source": [
        "import numpy\nfrom TypedUnit import ureg\n\nfrom PyMieSim.experiment.detector import CoherentMode\nfrom PyMieSim.experiment.scatterer import Sphere\nfrom PyMieSim.experiment.source import Gaussian\nfrom PyMieSim.experiment import Setup\nfrom PyOptik import Material"
      ]
    },
    {
      "cell_type": "markdown",
      "metadata": {},
      "source": [
        "Defining the source to be employed.\n\n"
      ]
    },
    {
      "cell_type": "code",
      "execution_count": null,
      "metadata": {
        "collapsed": false
      },
      "outputs": [],
      "source": [
        "source = Gaussian(\n    wavelength=1200 * ureg.nanometer,\n    polarization=90 * ureg.degree,\n    optical_power=1e-3 * ureg.watt,\n    NA=0.2 * ureg.AU,\n)"
      ]
    },
    {
      "cell_type": "markdown",
      "metadata": {},
      "source": [
        "Defining the ranging parameters for the scatterer distribution\n\n"
      ]
    },
    {
      "cell_type": "code",
      "execution_count": null,
      "metadata": {
        "collapsed": false
      },
      "outputs": [],
      "source": [
        "scatterer = Sphere(\n    diameter=2000 * ureg.nanometer,\n    property=Material.BK7,\n    medium_property=1 * ureg.RIU,\n    source=source,\n)"
      ]
    },
    {
      "cell_type": "markdown",
      "metadata": {},
      "source": [
        "Defining the detector to be employed.\n\n"
      ]
    },
    {
      "cell_type": "code",
      "execution_count": null,
      "metadata": {
        "collapsed": false
      },
      "outputs": [],
      "source": [
        "detector = CoherentMode(\n    mode_number=\"LP11\",\n    NA=[0.5, 0.3, 0.1, 0.05] * ureg.AU,\n    phi_offset=numpy.linspace(-180, 180, 300) * ureg.degree,\n    gamma_offset=0 * ureg.degree,\n    sampling=400 * ureg.AU,\n    polarization_filter=10 * ureg.degree,\n    rotation=0 * ureg.degree,  # Rotation of the mode field\n)"
      ]
    },
    {
      "cell_type": "markdown",
      "metadata": {},
      "source": [
        "Defining the experiment setup\n\n"
      ]
    },
    {
      "cell_type": "code",
      "execution_count": null,
      "metadata": {
        "collapsed": false
      },
      "outputs": [],
      "source": [
        "experiment = Setup(scatterer=scatterer, source=source, detector=detector)"
      ]
    },
    {
      "cell_type": "markdown",
      "metadata": {},
      "source": [
        "Measuring the properties\n\n"
      ]
    },
    {
      "cell_type": "code",
      "execution_count": null,
      "metadata": {
        "collapsed": false
      },
      "outputs": [],
      "source": [
        "dataframe = experiment.get(\"coupling\")\n\n# # %%\n# # Plotting the results\ndataframe.plot(x=\"detector:phi_offset\")"
      ]
    }
  ],
  "metadata": {
    "kernelspec": {
      "display_name": "Python 3",
      "language": "python",
      "name": "python3"
    },
    "language_info": {
      "codemirror_mode": {
        "name": "ipython",
        "version": 3
      },
      "file_extension": ".py",
      "mimetype": "text/x-python",
      "name": "python",
      "nbconvert_exporter": "python",
      "pygments_lexer": "ipython3",
      "version": "3.11.14"
    }
  },
  "nbformat": 4,
  "nbformat_minor": 0
}