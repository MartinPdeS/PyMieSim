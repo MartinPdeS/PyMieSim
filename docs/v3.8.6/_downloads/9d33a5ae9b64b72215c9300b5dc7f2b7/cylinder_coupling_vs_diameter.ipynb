{
  "cells": [
    {
      "cell_type": "markdown",
      "metadata": {},
      "source": [
        "\n# Cylinder: Coupling vs Diameter\n\nThis example demonstrates how to compute and visualize the coupling efficiency as a function of diameter for cylindrical scatterers using PyMieSim.\n"
      ]
    },
    {
      "cell_type": "markdown",
      "metadata": {},
      "source": [
        "Importing the package dependencies: numpy, PyMieSim\n\n"
      ]
    },
    {
      "cell_type": "code",
      "execution_count": null,
      "metadata": {
        "collapsed": false
      },
      "outputs": [],
      "source": [
        "import numpy as np\nfrom TypedUnit import ureg\n\nfrom PyMieSim.experiment.detector import Photodiode\nfrom PyMieSim.experiment.scatterer import Sphere\nfrom PyMieSim.experiment.source import Gaussian\nfrom PyMieSim.experiment import Setup"
      ]
    },
    {
      "cell_type": "markdown",
      "metadata": {},
      "source": [
        "Defining the source\n\n"
      ]
    },
    {
      "cell_type": "code",
      "execution_count": null,
      "metadata": {
        "collapsed": false
      },
      "outputs": [],
      "source": [
        "source = Gaussian(\n    wavelength=[100, 1200] * ureg.nanometer,  # 1200 nm\n    polarization=90 * ureg.degree,  # Polarization angle in ureg.degrees\n    optical_power=1e-3 * ureg.watt,  # 1 milliureg.watt\n    NA=0.2 * ureg.AU,  # Numerical Aperture\n)"
      ]
    },
    {
      "cell_type": "markdown",
      "metadata": {},
      "source": [
        "Defining the scatterer distribution\n\n"
      ]
    },
    {
      "cell_type": "code",
      "execution_count": null,
      "metadata": {
        "collapsed": false
      },
      "outputs": [],
      "source": [
        "scatterer = Sphere(\n    diameter=np.linspace(100, 300, 200)\n    * ureg.nanometer,  # Diameters ranging from 100 nm to 3000 nm\n    property=[1.4] * ureg.RIU,  # Material of the cylinder\n    medium_property=1.0 * ureg.RIU,  # Refractive index of the surrounding medium\n    source=source,\n)"
      ]
    },
    {
      "cell_type": "markdown",
      "metadata": {},
      "source": [
        "Defining the detector\n\n"
      ]
    },
    {
      "cell_type": "code",
      "execution_count": null,
      "metadata": {
        "collapsed": false
      },
      "outputs": [],
      "source": [
        "detector = Photodiode(\n    NA=[0.1] * ureg.AU,  # Numerical Apertures for the detector\n    phi_offset=[-180.0] * ureg.degree,  # Phi offset in ureg.degrees\n    gamma_offset=[0.0] * ureg.degree,  # Gamma offset in ureg.degrees\n    sampling=600 * ureg.AU,  # Number of sampling points\n    polarization_filter=None,  # No polarization filter\n)"
      ]
    },
    {
      "cell_type": "markdown",
      "metadata": {},
      "source": [
        "Setting up the experiment\n\n"
      ]
    },
    {
      "cell_type": "code",
      "execution_count": null,
      "metadata": {
        "collapsed": false
      },
      "outputs": [],
      "source": [
        "experiment = Setup(scatterer=scatterer, source=source, detector=detector)"
      ]
    },
    {
      "cell_type": "markdown",
      "metadata": {},
      "source": [
        "Measuring the coupling efficiency\n\n"
      ]
    },
    {
      "cell_type": "code",
      "execution_count": null,
      "metadata": {
        "collapsed": false
      },
      "outputs": [],
      "source": [
        "dataframe = experiment.get(\"coupling\")"
      ]
    },
    {
      "cell_type": "markdown",
      "metadata": {},
      "source": [
        "Plotting the results\nVisualizing how the coupling efficiency varies with the cylinder diameter.\n\n"
      ]
    },
    {
      "cell_type": "code",
      "execution_count": null,
      "metadata": {
        "collapsed": false
      },
      "outputs": [],
      "source": [
        "dataframe.plot(x=\"scatterer:diameter\")"
      ]
    }
  ],
  "metadata": {
    "kernelspec": {
      "display_name": "Python 3",
      "language": "python",
      "name": "python3"
    },
    "language_info": {
      "codemirror_mode": {
        "name": "ipython",
        "version": 3
      },
      "file_extension": ".py",
      "mimetype": "text/x-python",
      "name": "python",
      "nbconvert_exporter": "python",
      "pygments_lexer": "ipython3",
      "version": "3.11.13"
    }
  },
  "nbformat": 4,
  "nbformat_minor": 0
}