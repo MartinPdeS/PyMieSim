{
  "cells": [
    {
      "cell_type": "markdown",
      "metadata": {},
      "source": [
        "\n# Core-Shell Particles: 0\n"
      ]
    },
    {
      "cell_type": "code",
      "execution_count": null,
      "metadata": {
        "collapsed": false
      },
      "outputs": [],
      "source": [
        "# Standard library imports\nimport numpy as np\nimport pandas as pd\nimport matplotlib.pyplot as plt\nfrom TypedUnit import ureg\n\n# PyMieSim imports\nfrom PyMieSim.experiment.scatterer import CoreShell\nfrom PyMieSim.experiment.source import Gaussian\nfrom PyMieSim.experiment import Setup\nfrom PyMieSim.directories import validation_data_path\nfrom MPSPlots.styles import mps\n\n# Define parameters\nwavelength = 600 * ureg.nanometer  # Light source wavelength in meters\npolarization = 0 * ureg.degree\noptical_power = 1 * ureg.watt  # Power in watts\nNA = 0.2 * ureg.AU  # Numerical aperture\nmedium_index = 1.0 * ureg.RIU\ncore_index = 1.5 * ureg.RIU\nshell_index = 1.4 * ureg.RIU\nshell_thickness = 600 * ureg.nanometer  # Shell width in meters\ncore_diameters = np.geomspace(10, 500, 40) * ureg.nanometer  # Core diameters in meters\n\n# Setup source\nsource = Gaussian(\n    wavelength=wavelength, polarization=polarization, optical_power=optical_power, NA=NA\n)\n\n# Setup scatterer\nscatterer = CoreShell(\n    core_diameter=core_diameters,\n    shell_thickness=shell_thickness,\n    core_property=core_index,\n    shell_property=shell_index,\n    medium_property=medium_index,\n    source=source,\n)\n\n# Define experiment setup\nexperiment = Setup(scatterer=scatterer, source=source)\n\ncomparison_measures = [\"Qsca\", \"Qext\", \"Qabs\", \"g\", \"Qpr\", \"Qback\"]\n\n# Simulate using PyMieSim\npymiesim = experiment.get(*comparison_measures, as_numpy=True)\n\npymiescatt_dataframe = pd.read_csv(\n    validation_data_path / \"pymiescatt/example_coreshell_0.csv\"\n)\n\n# Plot results\nwith plt.style.context(mps):\n    figure, ax = plt.subplots(1, 1)\n\n\nfor string in comparison_measures:\n    ax.plot(\n        pymiescatt_dataframe[\"core_diameter\"],\n        pymiescatt_dataframe[string],\n        label=\"PyMieScatt: \" + string,\n        linewidth=3,\n    )\n\n\nfor data, string in zip(pymiesim, comparison_measures):\n    ax.plot(\n        core_diameters.to(ureg.nanometer).magnitude,\n        data,\n        label=\"PyMieSim: \" + string,\n        linestyle=\"--\",\n        color=\"black\",\n        linewidth=1.5,\n    )\n\nax.set(\n    xlabel=r\"Core Diameter [$\\mu$m]\",\n    ylabel=\"Scattering Efficiency\",\n    title=\"Scattering Efficiency Comparison for Core-Shell Particles\",\n)\nplt.legend()\nplt.show()"
      ]
    }
  ],
  "metadata": {
    "kernelspec": {
      "display_name": "Python 3",
      "language": "python",
      "name": "python3"
    },
    "language_info": {
      "codemirror_mode": {
        "name": "ipython",
        "version": 3
      },
      "file_extension": ".py",
      "mimetype": "text/x-python",
      "name": "python",
      "nbconvert_exporter": "python",
      "pygments_lexer": "ipython3",
      "version": "3.11.14"
    }
  },
  "nbformat": 4,
  "nbformat_minor": 0
}